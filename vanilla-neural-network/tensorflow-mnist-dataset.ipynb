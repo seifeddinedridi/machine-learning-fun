{
 "cells": [
  {
   "cell_type": "code",
   "execution_count": 1,
   "metadata": {},
   "outputs": [
    {
     "name": "stdout",
     "output_type": "stream",
     "text": [
      "Populating the interactive namespace from numpy and matplotlib\n"
     ]
    }
   ],
   "source": [
    "%pylab inline\n",
    "import tensorflow as tf\n",
    "import tensorflow.keras as keras\n",
    "from tensorflow.keras import layers\n",
    "import numpy as np\n",
    "import tqdm as tqdm\n",
    "import tempfile\n",
    "\n",
    "np.set_printoptions(suppress=True)"
   ]
  },
  {
   "cell_type": "code",
   "execution_count": 2,
   "metadata": {},
   "outputs": [],
   "source": [
    "# load the mnist dataset\n",
    "\n",
    "def fetch(url):\n",
    "    import requests, gzip, os, hashlib, numpy\n",
    "    fp = os.path.join(tempfile.gettempdir(), hashlib.md5(url.encode('utf-8')).hexdigest())\n",
    "    if os.path.exists(fp):\n",
    "        with open(fp, \"rb\") as f:\n",
    "            dat = f.read()\n",
    "    else:\n",
    "        with open(fp, \"wb\") as f:\n",
    "            dat = requests.get(url).content\n",
    "            f.write(dat)\n",
    "    return numpy.frombuffer(gzip.decompress(dat), dtype=np.uint8).copy()\n",
    "\n",
    "X_train = fetch(\"http://yann.lecun.com/exdb/mnist/train-images-idx3-ubyte.gz\")[0x10:].reshape((-1, 28*28)) /  255.0\n",
    "Y_train = fetch(\"http://yann.lecun.com/exdb/mnist/train-labels-idx1-ubyte.gz\")[8:]\n",
    "X_test = fetch(\"http://yann.lecun.com/exdb/mnist/t10k-images-idx3-ubyte.gz\")[0x10:].reshape((-1, 28*28)) / 255.0\n",
    "Y_test = fetch(\"http://yann.lecun.com/exdb/mnist/t10k-labels-idx1-ubyte.gz\")[8:]"
   ]
  },
  {
   "cell_type": "code",
   "execution_count": 3,
   "metadata": {},
   "outputs": [],
   "source": [
    "# Define Sequential model with 2 layers\n",
    "def uniform_init(shape, dtype=None):\n",
    "    return np.random.uniform(-1.0, 1.0, shape) / np.sqrt(shape[0] * shape[1]).astype(np.float32)\n",
    "\n",
    "def bias_init(shape, dtype=None):\n",
    "    return np.random.random(shape[0]) * 0.01\n",
    "\n",
    "model = keras.Sequential(\n",
    "    [\n",
    "        keras.Input(shape=(784,)),\n",
    "        layers.Dense(128, activation=\"relu\", use_bias=True, kernel_initializer=uniform_init, bias_initializer=bias_init),\n",
    "        layers.Dense(10, activation=\"softmax\", use_bias=True, kernel_initializer=uniform_init, bias_initializer=bias_init),\n",
    "    ]\n",
    ")"
   ]
  },
  {
   "cell_type": "code",
   "execution_count": 4,
   "metadata": {},
   "outputs": [],
   "source": [
    "model.compile(\n",
    "    optimizer=keras.optimizers.SGD(learning_rate=0.01, momentum=0.01),  # Optimizer\n",
    "    # Loss function to minimize\n",
    "    loss=keras.losses.SparseCategoricalCrossentropy(),\n",
    "    # List of metrics to monitor\n",
    "    metrics=[keras.metrics.SparseCategoricalAccuracy()],\n",
    ")"
   ]
  },
  {
   "cell_type": "code",
   "execution_count": 10,
   "metadata": {},
   "outputs": [],
   "source": [
    "def train_model(max_epochs, batch_size):\n",
    "    losses, accuracies = [], []\n",
    "    t = tqdm.trange(max_epochs)\n",
    "    for i in t:\n",
    "        with tf.GradientTape() as tape:\n",
    "            sample = np.random.randint(0, X_train.shape[0], size=(batch_size))\n",
    "            batch_train_X = tf.constant(value=X_train[sample], dtype=tf.dtypes.float32)\n",
    "            batch_train_Y = tf.constant(value=Y_train[sample], dtype=tf.dtypes.int32)\n",
    "\n",
    "            predictions_Y = model(batch_train_X)\n",
    "            predictions_labels = tf.argmax(predictions_Y, axis=1, output_type=tf.dtypes.int32)\n",
    "            predictions_labels = tf.equal(tf.round(predictions_labels), tf.round(batch_train_Y))\n",
    "\n",
    "            accuracy = tf.reduce_mean(tf.cast(predictions_labels, tf.float32))\n",
    "            loss = model.loss(y_pred=predictions_Y, y_true=batch_train_Y)\n",
    "\n",
    "        # Use the gradient tape to automatically retrieve\n",
    "        # the gradients of the trainable variables with respect to the loss.\n",
    "        grads = tape.gradient(loss, model.trainable_weights)\n",
    "\n",
    "        # Run one step of gradient descent by updating\n",
    "        # the value of the variables to minimize the loss.\n",
    "        model.optimizer.apply_gradients(zip(grads, model.trainable_weights))\n",
    "\n",
    "        losses.append(loss)\n",
    "        accuracies.append(accuracy)\n",
    "        t.set_description(\"loss %.2f accuracy %.2f\" % (loss, accuracy))\n",
    "\n",
    "    ylim(0.0, 3.0)\n",
    "    l1 = plot(losses, label='Loss')\n",
    "    plot(accuracies, label='Accuracy')\n",
    "    legend()"
   ]
  },
  {
   "cell_type": "code",
   "execution_count": 11,
   "metadata": {
    "scrolled": true
   },
   "outputs": [
    {
     "name": "stderr",
     "output_type": "stream",
     "text": [
      "loss 0.94 accuracy 0.77: 100%|████████████████████████████████████████████████████████████████████████████████████████████████████████████████████████████████████████████████████████████████| 1000/1000 [00:12<00:00, 80.32it/s]\n"
     ]
    },
    {
     "data": {
      "image/png": "[encoded data removed]",
      "text/plain": [
       "<Figure size 432x288 with 1 Axes>"
      ]
     },
     "metadata": {
      "needs_background": "light"
     },
     "output_type": "display_data"
    }
   ],
   "source": [
    "max_epochs = 1000\n",
    "batch_size = 64\n",
    "train_model(max_epochs, batch_size)"
   ]
  },
  {
   "cell_type": "code",
   "execution_count": null,
   "outputs": [],
   "source": [
    "imshow(X_test[0].reshape(28, 28))\n",
    "model.predict(X_test[0].reshape(1, -1)).argmax()"
   ],
   "metadata": {
    "collapsed": false,
    "pycharm": {
     "name": "#%%\n"
    }
   }
  },
  {
   "cell_type": "code",
   "execution_count": null,
   "outputs": [],
   "source": [
    "def test_model(max_epochs, batch_size):\n",
    "    losses, accuracies = [], []\n",
    "    t = tqdm.trange(max_epochs)\n",
    "    for i in t:\n",
    "        sample = np.random.randint(0, X_test.shape[0], size=(batch_size))\n",
    "        batch_test_X = tf.constant(value=X_test[sample], dtype=tf.dtypes.float32)\n",
    "        batch_test_Y = tf.constant(value=Y_test[sample], dtype=tf.dtypes.int32)\n",
    "\n",
    "        predictions_Y = model(batch_test_X)\n",
    "        predictions_labels = tf.argmax(predictions_Y, axis=1, output_type=tf.dtypes.int32)\n",
    "        predictions_labels = tf.equal(tf.round(predictions_labels), tf.round(batch_test_Y))\n",
    "\n",
    "        accuracy = tf.reduce_mean(tf.cast(predictions_labels, tf.float32))\n",
    "        loss = model.loss(y_pred=predictions_Y, y_true=batch_test_Y)\n",
    "\n",
    "        losses.append(loss)\n",
    "        accuracies.append(accuracy)\n",
    "        t.set_description(\"loss %.2f accuracy %.2f\" % (loss, accuracy))\n",
    "\n",
    "    ylim(0.0, 3.0)\n",
    "    l1 = plot(losses, label='Loss')\n",
    "    plot(accuracies, label='Accuracy')\n",
    "    legend()"
   ],
   "metadata": {
    "collapsed": false,
    "pycharm": {
     "name": "#%%\n"
    }
   }
  },
  {
   "cell_type": "code",
   "execution_count": null,
   "outputs": [],
   "source": [
    "test_model(max_epochs, batch_size)"
   ],
   "metadata": {
    "collapsed": false,
    "pycharm": {
     "name": "#%%\n"
    }
   }
  },
  {
   "cell_type": "code",
   "execution_count": 9,
   "metadata": {},
   "outputs": [
    {
     "data": {
      "text/plain": [
       "7"
      ]
     },
     "execution_count": 9,
     "metadata": {},
     "output_type": "execute_result"
    },
    {
     "data": {
      "image/png": "[encoded data removed]",
      "text/plain": [
       "<Figure size 432x288 with 1 Axes>"
      ]
     },
     "metadata": {
      "needs_background": "light"
     },
     "output_type": "display_data"
    }
   ],
   "source": [
    "test_model(max_epochs, batch_size)"
   ]
  },
  {
   "cell_type": "code",
   "execution_count": 7,
   "metadata": {},
   "outputs": [],
   "source": [
    "def test_model(max_epochs, batch_size):\n",
    "    losses, accuracies = [], []\n",
    "    t = tqdm.trange(max_epochs)\n",
    "    for i in t:\n",
    "        sample = np.random.randint(0, X_test.shape[0], size=(batch_size))\n",
    "        batch_test_X = tf.constant(value=X_test[sample], dtype=tf.dtypes.float32)\n",
    "        batch_test_Y = tf.constant(value=Y_test[sample], dtype=tf.dtypes.int32)\n",
    "\n",
    "        predictions_Y = model(batch_test_X)\n",
    "        predictions_labels = tf.argmax(predictions_Y, axis=1, output_type=tf.dtypes.int32)\n",
    "        predictions_labels = tf.equal(tf.round(predictions_labels), tf.round(batch_test_Y))\n",
    "\n",
    "        accuracy = tf.reduce_mean(tf.cast(predictions_labels, tf.float32))\n",
    "        loss = model.loss(y_pred=predictions_Y, y_true=batch_test_Y)\n",
    "\n",
    "        losses.append(loss)\n",
    "        accuracies.append(accuracy)\n",
    "        t.set_description(\"loss %.2f accuracy %.2f\" % (loss, accuracy))\n",
    "\n",
    "    ylim(0.0, 3.0)\n",
    "    l1 = plot(losses, label='Loss')\n",
    "    plot(accuracies, label='Accuracy')\n",
    "    legend()"
   ]
  },
  {
   "cell_type": "code",
   "execution_count": 8,
   "metadata": {},
   "outputs": [
    {
     "name": "stderr",
     "output_type": "stream",
     "text": [
      "loss 2.30 accuracy 0.09: 100%|███████████████████████████████████████████████████████████████████████████████████████████████████████████████████████████████████████████████████████████████| 1000/1000 [00:07<00:00, 139.78it/s]\n"
     ]
    },
    {
     "data": {
      "image/png": "[encoded data removed]",
      "text/plain": [
       "<Figure size 432x288 with 1 Axes>"
      ]
     },
     "metadata": {
      "needs_background": "light"
     },
     "output_type": "display_data"
    }
   ],
   "source": [
    "test_model(max_epochs, batch_size)"
   ]
  }
 ],
 "metadata": {
  "kernelspec": {
   "display_name": "Python 3",
   "language": "python",
   "name": "python3"
  },
  "language_info": {
   "codemirror_mode": {
    "name": "ipython",
    "version": 3
   },
   "file_extension": ".py",
   "mimetype": "text/x-python",
   "name": "python",
   "nbconvert_exporter": "python",
   "pygments_lexer": "ipython3",
   "version": "3.7.2"
  }
 },
 "nbformat": 4,
 "nbformat_minor": 4
}