{
 "cells": [
  {
   "cell_type": "code",
   "execution_count": 1,
   "metadata": {},
   "outputs": [],
   "source": [
    "import numpy as np\n",
    "from tqdm import trange\n",
    "import matplotlib.pyplot as plt\n",
    "import tempfile\n",
    "\n",
    "np.random.seed(1337)"
   ]
  },
  {
   "cell_type": "code",
   "execution_count": 2,
   "metadata": {},
   "outputs": [],
   "source": [
    "# load the mnist dataset\n",
    "def fetch(url):\n",
    "    import requests, gzip, os, hashlib, numpy\n",
    "    fp = os.path.join(tempfile.gettempdir(), hashlib.md5(url.encode('utf-8')).hexdigest())\n",
    "    if os.path.exists(fp):\n",
    "        with open(fp, \"rb\") as f:\n",
    "            dat = f.read()\n",
    "    else:\n",
    "        with open(fp, \"wb\") as f:\n",
    "            dat = requests.get(url).content\n",
    "            f.write(dat)\n",
    "    return numpy.frombuffer(gzip.decompress(dat), dtype=np.uint8).copy()\n",
    "\n",
    "\n",
    "def cross_entropy_loss(predictions_Y, train_Y):\n",
    "    predictions_count = predictions_Y.shape[0]\n",
    "    scores = predictions_Y[range(predictions_count), train_Y]\n",
    "    with np.errstate(divide='ignore'):\n",
    "        log_likelihood = -np.where(scores > 0.00001, np.log(scores), np.log(np.full(scores.shape, 0.00001)))\n",
    "        log_likelihood[np.isneginf(log_likelihood)] = -1e9\n",
    "    return np.sum(log_likelihood) / predictions_count\n",
    "\n",
    "\n",
    "class NNLayer(object):\n",
    "    def __init__(self, size, activation_func='relu'):\n",
    "        # self.W = np.random.randn(size[0], size[1]) * math.sqrt(2.0 / size[1])\n",
    "        self.W = np.random.uniform(-1.0, 1.0, size) / np.sqrt(size[0] * size[1]).astype(np.float32)\n",
    "        self.bias = np.random.random(size[0]) * 0.01\n",
    "        self.activation_func = activation_func\n",
    "        self.X = None\n",
    "        self.Z = None\n",
    "        self.Sigma = None\n",
    "        self.dL_dW = None\n",
    "        self.dL_dB = None\n",
    "        self.delta_W = np.zeros(size) # Used to compute analytical gradient\n",
    "\n",
    "    def forward(self, X):\n",
    "        self.X = X\n",
    "        self.Z = np.dot(self.X, (self.W + self.delta_W).T) + self.bias\n",
    "        # Each row corresponds to an activation within the layer\n",
    "        self.Sigma = self.apply_activation(self.Z)\n",
    "        return self.Sigma\n",
    "\n",
    "    def apply_activation(self, Z):\n",
    "        if self.activation_func == 'relu':\n",
    "            return np.maximum(0.0, Z)\n",
    "        elif self.activation_func == 'cross_entropy_softmax':\n",
    "            return np.exp(Z) / np.sum(np.exp(Z), axis=1, keepdims=True)\n",
    "        else:\n",
    "            return 0.0\n",
    "\n",
    "    def backward(self, dL_dSigmas):\n",
    "        # Each row in dL_dSigmas correspond to the derivative of the loss wrt. softmax's input\n",
    "        # This is a batch operation that is done for all the neurons in the current layer\n",
    "        dZ_dX = self.W + self.delta_W\n",
    "        # Each row in X corresponds to a unique input in the batch\n",
    "        dZ_dW = self.X\n",
    "        dZ_dB = np.ones(self.bias.shape)\n",
    "\n",
    "        if self.activation_func == 'cross_entropy_softmax':\n",
    "            # dL_dSigmas actually refers to the derivative of the loss function wrt. the softmax input which is Z\n",
    "            # So it is actually dL_dZ rather than dL_dSigmas\n",
    "            dL_dZ = dL_dSigmas\n",
    "        elif self.activation_func == 'relu':\n",
    "            dL_dZ = dL_dSigmas\n",
    "            dL_dZ[self.Z <= 0] = 0.0\n",
    "        else:\n",
    "            raise NameError('Unsupported activation function ' + self.activation_func)\n",
    "\n",
    "        # dL_dW should be a matrix: each row corresponds to the derivative of the loss function wrt. the neuron's weights\n",
    "        dL_dW = np.dot(dZ_dW.T, dL_dZ).T\n",
    "\n",
    "        # dL_dB should a vector: each component correspond to the derivative of the loss function wrt. the neuron's bias\n",
    "        dL_dB = np.sum(dL_dZ, axis=0) * dZ_dB\n",
    "\n",
    "        # dL_dX should be a matrix: each row corresponds to the derivative of the loss function wrt. layer's input\n",
    "        dL_dX = np.dot(dL_dZ, dZ_dX)\n",
    "\n",
    "        assert dL_dX.shape == self.X.shape\n",
    "        assert dL_dW.shape == self.W.shape\n",
    "        assert dL_dB.shape == self.bias.shape\n",
    "\n",
    "        self.dL_dW = dL_dW\n",
    "        self.dL_dB = dL_dB\n",
    "        return dL_dX\n",
    "\n",
    "    def update(self, learning_rate, keep_gradients=False):\n",
    "        self.W -= self.dL_dW * learning_rate\n",
    "        self.bias -= self.dL_dB * learning_rate\n",
    "        if keep_gradients == False:\n",
    "            # Reinitialize accumulated derivatives `dL_dW` and `dL_dB`\n",
    "            self.dL_dW = np.zeros(self.dL_dW.shape)\n",
    "            self.dL_dB = np.zeros(self.dL_dB.shape)\n",
    "\n",
    "    def set_delta_weights(self, neuron_index, input_index, delta):\n",
    "        self.delta_W[neuron_index, input_index] = delta\n",
    "\n",
    "class VanillaFCNN(object):\n",
    "\n",
    "    def __init__(self, training_X, training_Y, input_output, keep_gradients=False):\n",
    "        self.layers = []\n",
    "        self.training_X = training_X\n",
    "        self.training_Y = training_Y\n",
    "        self.input_output = input_output\n",
    "        self.keep_gradients = keep_gradients\n",
    "\n",
    "    def addLayer(self, layer):\n",
    "        self.layers.append(layer)\n",
    "\n",
    "    def forward(self, X):\n",
    "        for layer in self.layers:\n",
    "            X = layer.forward(X)\n",
    "        return X\n",
    "\n",
    "    def train(self, max_epoch, learning_rate, batch_size):\n",
    "        t = trange(max_epoch)\n",
    "        loss = 0.0\n",
    "        for i in t:\n",
    "            # Create batch\n",
    "            sample = np.random.randint(0, self.training_X.shape[0], size=batch_size)\n",
    "            batch_train_X = self.training_X[sample].reshape((-1, 28 * 28))\n",
    "            batch_train_Y = self.training_Y[sample]\n",
    "\n",
    "            predictions_Y = self.forward(batch_train_X)\n",
    "\n",
    "            loss += cross_entropy_loss(predictions_Y, batch_train_Y)\n",
    "            accuracy = np.mean(np.argmax(predictions_Y, axis=1) == batch_train_Y)\n",
    "\n",
    "            # Backpropagation\n",
    "            # Start with the derivative of the Loss function wrt. the softmax function's input\n",
    "            dL_dZ = predictions_Y\n",
    "            dL_dZ[range(batch_size), batch_train_Y] -= 1\n",
    "\n",
    "            for layer in reversed(self.layers):\n",
    "                dL_dZ = layer.backward(dL_dZ)\n",
    "    \n",
    "             # Update the weights\n",
    "            for layer in self.layers:\n",
    "                layer.update(learning_rate, self.keep_gradients)\n",
    "\n",
    "            t.set_description(\n",
    "                'Epoch %d / %d, Loss = %f, Accuracy = %.2f' % (i + 1, max_epoch, loss / (i + 1), accuracy.mean()))\n",
    "\n",
    "    def __call__(self, input_index, learning_rate):\n",
    "        batch_train_X = self.training_X[input_index].reshape((-1, 28 * 28))\n",
    "        batch_train_Y = self.training_Y[input_index]\n",
    "        \n",
    "        predictions_Y = self.forward(batch_train_X)\n",
    "\n",
    "        dL_dZ = predictions_Y\n",
    "        dL_dZ[range(1), batch_train_Y] -= 1\n",
    "\n",
    "        for layer in reversed(self.layers):\n",
    "            dL_dZ = layer.backward(dL_dZ)\n",
    "        \n",
    "        # Update the weights\n",
    "        for layer in self.layers:\n",
    "            layer.update(learning_rate, self.keep_gradients)\n",
    "        \n",
    "    def predict(self, X):\n",
    "        return self.forward(X.reshape(1, -1))\n",
    "\n",
    "    def get_layer_gradient_matrix(self, layer_index):\n",
    "        return self.layers[layer_index].dL_dW\n",
    "\n",
    "    def compute_analytical_gradient(self, input_index, delta):\n",
    "        sample_X = self.training_X[input_index].reshape(1, -1)\n",
    "        sample_Y = self.training_Y[input_index]\n",
    "        \n",
    "        # Evaluate base loss\n",
    "        predictions_Y = self.forward(sample_X)\n",
    "        base_loss = cross_entropy_loss(predictions_Y, sample_Y)\n",
    "        gradient = []\n",
    "        \n",
    "        for layer_index, layer in enumerate(self.layers):\n",
    "            layer_neurons_count = layer.W.shape[0]\n",
    "            layer_input_size = layer.W.shape[1]\n",
    "            \n",
    "            layer_gradients = np.zeros((layer_neurons_count, layer_input_size))\n",
    "            for neuron_index in range(layer_neurons_count):\n",
    "                for input_index in range(layer_input_size):\n",
    "                    layer.set_delta_weights(neuron_index, input_index, delta)\n",
    "            \n",
    "                    predictions_Y = self.forward(sample_X)\n",
    "                    loss = cross_entropy_loss(predictions_Y, sample_Y)\n",
    "            \n",
    "                    layer_gradients[neuron_index, input_index] = (loss - base_loss) / delta\n",
    "\n",
    "                    # Reset delta weights\n",
    "                    layer.set_delta_weights(neuron_index, input_index, 0.0)\n",
    "                    \n",
    "            gradient.append(layer_gradients)\n",
    "        \n",
    "        return gradient"
   ]
  },
  {
   "cell_type": "code",
   "execution_count": 28,
   "metadata": {},
   "outputs": [
    {
     "name": "stderr",
     "output_type": "stream",
     "text": [
      "Epoch 1000 / 1000, Loss = 0.579525, Accuracy = 0.87: 100%|███████████████████████████████████████████████████████████████████████████████████████████████████████████████████████████████████| 1000/1000 [00:09<00:00, 108.64it/s]\n"
     ]
    }
   ],
   "source": [
    "def create_neural_network():\n",
    "    X_train = fetch(\"http://yann.lecun.com/exdb/mnist/train-images-idx3-ubyte.gz\")[0x10:].reshape(-1, 28*28) / 255.0\n",
    "    Y_train = fetch(\"http://yann.lecun.com/exdb/mnist/train-labels-idx1-ubyte.gz\")[8:]\n",
    "    X_test = fetch(\"http://yann.lecun.com/exdb/mnist/t10k-images-idx3-ubyte.gz\")[0x10:].reshape(-1, 28, 28) / 255.0\n",
    "    Y_test = fetch(\"http://yann.lecun.com/exdb/mnist/t10k-labels-idx1-ubyte.gz\")[8:]\n",
    "\n",
    "    inputShapeSize = 784\n",
    "    outputShapeSize = 10\n",
    "    model = VanillaFCNN(training_X=X_train, training_Y=Y_train, input_output=(inputShapeSize, outputShapeSize), keep_gradients=True)\n",
    "    model.addLayer(NNLayer((128, inputShapeSize), 'relu'))\n",
    "    model.addLayer(NNLayer((outputShapeSize, 128), 'cross_entropy_softmax'))\n",
    "    return model, X_test, Y_test\n",
    "\n",
    "\n",
    "network_parameters = {'delta': 0.01, 'epochs': 1000, 'batch_size': 128}\n",
    "\n",
    "model, X_test, Y_test = create_neural_network()\n",
    "model.train(network_parameters['epochs'], network_parameters['delta'], network_parameters['batch_size'])"
   ]
  },
  {
   "cell_type": "code",
   "execution_count": 29,
   "metadata": {},
   "outputs": [
    {
     "data": {
      "text/plain": [
       "<matplotlib.image.AxesImage at 0x1ce27982f60>"
      ]
     },
     "execution_count": 29,
     "metadata": {},
     "output_type": "execute_result"
    },
    {
     "data": {
      "image/png": "[encoded data removed]",
      "text/plain": [
       "<Figure size 432x288 with 1 Axes>"
      ]
     },
     "metadata": {
      "needs_background": "light"
     },
     "output_type": "display_data"
    }
   ],
   "source": [
    "plt.imshow(X_test[100])"
   ]
  },
  {
   "cell_type": "code",
   "execution_count": 30,
   "metadata": {},
   "outputs": [
    {
     "data": {
      "text/plain": [
       "6"
      ]
     },
     "execution_count": 30,
     "metadata": {},
     "output_type": "execute_result"
    }
   ],
   "source": [
    "# Let's evaluate our model to check which number it thinks this image represents\n",
    "model.predict(X_test[100]).argmax()"
   ]
  },
  {
   "cell_type": "code",
   "execution_count": 23,
   "metadata": {},
   "outputs": [],
   "source": [
    "input_index = 0\n",
    "# Gradient check\n",
    "gradient_matrix = model.compute_analytical_gradient(input_index=0, delta=network_parameters['delta'])"
   ]
  },
  {
   "cell_type": "code",
   "execution_count": 26,
   "metadata": {},
   "outputs": [
    {
     "name": "stdout",
     "output_type": "stream",
     "text": [
      "-1.0386865608268847\n",
      "0.532678489991878\n"
     ]
    },
    {
     "data": {
      "text/plain": [
       "<matplotlib.image.AxesImage at 0x1ce278cd358>"
      ]
     },
     "execution_count": 26,
     "metadata": {},
     "output_type": "execute_result"
    },
    {
     "data": {
      "image/png": "[encoded data removed]",
      "text/plain": [
       "<Figure size 432x288 with 1 Axes>"
      ]
     },
     "metadata": {
      "needs_background": "light"
     },
     "output_type": "display_data"
    }
   ],
   "source": [
    "layer_index = 1\n",
    "print(gradient_matrix[layer_index].min())\n",
    "print(gradient_matrix[layer_index].max())\n",
    "plt.imshow(gradient_matrix[layer_index])"
   ]
  },
  {
   "cell_type": "code",
   "execution_count": 27,
   "metadata": {},
   "outputs": [
    {
     "name": "stdout",
     "output_type": "stream",
     "text": [
      "-0.9185495814343456\n",
      "0.4284691148460665\n"
     ]
    },
    {
     "data": {
      "text/plain": [
       "<matplotlib.image.AxesImage at 0x1ce27929400>"
      ]
     },
     "execution_count": 27,
     "metadata": {},
     "output_type": "execute_result"
    },
    {
     "data": {
      "image/png": "[encoded data removed]",
      "text/plain": [
       "<Figure size 432x288 with 1 Axes>"
      ]
     },
     "metadata": {
      "needs_background": "light"
     },
     "output_type": "display_data"
    }
   ],
   "source": [
    "# Evaluate the model and do backward propagation on a single input\n",
    "model(input_index=0, learning_rate=network_parameters['delta'])\n",
    "\n",
    "layer_gradients = model.get_layer_gradient_matrix(layer_index)\n",
    "print(layer_gradients.min())\n",
    "print(layer_gradients.max())\n",
    "plt.imshow(layer_gradients)"
   ]
  }
 ],
 "metadata": {
  "kernelspec": {
   "display_name": "Python 3",
   "language": "python",
   "name": "python3"
  },
  "language_info": {
   "codemirror_mode": {
    "name": "ipython",
    "version": 3
   },
   "file_extension": ".py",
   "mimetype": "text/x-python",
   "name": "python",
   "nbconvert_exporter": "python",
   "pygments_lexer": "ipython3",
   "version": "3.7.2"
  }
 },
 "nbformat": 4,
 "nbformat_minor": 4
}