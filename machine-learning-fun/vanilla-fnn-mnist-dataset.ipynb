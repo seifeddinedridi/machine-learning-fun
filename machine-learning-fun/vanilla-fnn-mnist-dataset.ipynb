{
 "cells": [
  {
   "cell_type": "code",
   "execution_count": 53,
   "metadata": {},
   "outputs": [],
   "source": [
    "import numpy as np\n",
    "from numpy import random\n",
    "from tqdm import trange\n",
    "import matplotlib.pyplot as plt\n",
    "import tempfile\n",
    "\n",
    "np.random.seed(1337)"
   ]
  },
  {
   "cell_type": "code",
   "execution_count": 54,
   "metadata": {},
   "outputs": [],
   "source": [
    "# load the mnist dataset\n",
    "def fetch(url):\n",
    "    import requests, gzip, os, hashlib, numpy\n",
    "    fp = os.path.join(tempfile.gettempdir(), hashlib.md5(url.encode('utf-8')).hexdigest())\n",
    "    if os.path.exists(fp):\n",
    "        with open(fp, \"rb\") as f:\n",
    "            dat = f.read()\n",
    "    else:\n",
    "        with open(fp, \"wb\") as f:\n",
    "            dat = requests.get(url).content\n",
    "            f.write(dat)\n",
    "    return numpy.frombuffer(gzip.decompress(dat), dtype=np.uint8).copy()\n",
    "\n",
    "\n",
    "def cross_entropy_loss(predictions_Y, train_Y):\n",
    "    predictions_count = predictions_Y.shape[0]\n",
    "    scores = predictions_Y[range(predictions_count), train_Y]\n",
    "    with np.errstate(divide='ignore'):\n",
    "        log_likelihood = -np.where(scores > 0.00001, np.log(scores), np.log(np.full(scores.shape, 0.00001)))\n",
    "        log_likelihood[np.isneginf(log_likelihood)] = -1e9\n",
    "    return np.sum(log_likelihood) / predictions_count\n",
    "\n",
    "\n",
    "class NNLayer(object):\n",
    "    def __init__(self, size, activation_func='relu'):\n",
    "        # self.W = np.random.randn(size[0], size[1]) * math.sqrt(2.0 / size[1])\n",
    "        self.W = np.random.uniform(-1.0, 1.0, size) / np.sqrt(size[0] * size[1]).astype(np.float32)\n",
    "        self.bias = np.random.random(size[0]) * 0.01\n",
    "        self.activation_func = activation_func\n",
    "        self.X = np.zeros(size[1])\n",
    "        self.Z = np.zeros(size[0])\n",
    "        self.Sigma = np.zeros(size[0])\n",
    "        self.dL_dW = np.zeros(size)\n",
    "        self.dL_dB = np.zeros(size[0])\n",
    "\n",
    "    def forward(self, X):\n",
    "        self.X = X\n",
    "        self.Z = np.dot(self.X, self.W.T) + self.bias\n",
    "        # Each row corresponds to an activation within the layer\n",
    "        self.Sigma = self.apply_activation(self.Z)\n",
    "        return self.Sigma\n",
    "\n",
    "    def apply_activation(self, Z):\n",
    "        if self.activation_func == 'relu':\n",
    "            return np.maximum(0.0, Z)\n",
    "        elif self.activation_func == 'cross_entropy_softmax':\n",
    "            return np.exp(Z) / np.sum(np.exp(Z), axis=1, keepdims=True)\n",
    "        else:\n",
    "            return 0.0\n",
    "\n",
    "    def backward(self, dL_dSigmas):\n",
    "        # Each row in dL_dSigmas correspond to the derivative of the loss wrt. softmax's input\n",
    "        # This is a batch operation that is done for all the neurons in the current layer\n",
    "        dZ_dX = self.W\n",
    "        # Each row in X corresponds to a unique input in the batch\n",
    "        dZ_dW = self.X\n",
    "        dZ_dB = np.ones(self.bias.shape)\n",
    "\n",
    "        if self.activation_func == 'cross_entropy_softmax':\n",
    "            # dL_dSigmas actually refers to the derivative of the loss function wrt. the softmax input which is Z\n",
    "            # So it is actually dL_dZ rather than dL_dSigmas\n",
    "            dL_dZ = dL_dSigmas\n",
    "        elif self.activation_func == 'relu':\n",
    "            dL_dZ = dL_dSigmas\n",
    "            dL_dZ[self.Z <= 0] = 0.0\n",
    "        else:\n",
    "            raise NameError('Unsupported activation function ' + self.activation_func)\n",
    "\n",
    "        # dL_dW should be a matrix: each row corresponds to the derivative of the loss function wrt. the neuron's weights\n",
    "        dL_dW = np.dot(dZ_dW.T, dL_dZ).T\n",
    "\n",
    "        # dL_dB should a vector: each component correspond to the derivative of the loss function wrt. the neuron's bias\n",
    "        dL_dB = np.sum(dL_dZ, axis=0) * dZ_dB\n",
    "\n",
    "        # dL_dX should be a matrix: each row corresponds to the derivative of the loss function wrt. layer's input\n",
    "        dL_dX = np.dot(dL_dZ, dZ_dX)\n",
    "\n",
    "        assert dL_dX.shape == self.X.shape\n",
    "        assert dL_dW.shape == self.W.shape\n",
    "        assert dL_dB.shape == self.bias.shape\n",
    "\n",
    "        self.dL_dW = dL_dW\n",
    "        self.dL_dB = dL_dB\n",
    "        return dL_dX\n",
    "\n",
    "    def update(self, learning_rate):\n",
    "        self.W -= self.dL_dW * learning_rate\n",
    "        self.bias -= self.dL_dB * learning_rate\n",
    "        # Reinitialize accumulated derivatives `dL_dW` and `dL_dB`\n",
    "        self.dL_dW = np.zeros(self.dL_dW.shape)\n",
    "        self.dL_dB = np.zeros(self.dL_dB.shape)\n",
    "\n",
    "    def get_neuron_gradient_vector(self, neuron_index):\n",
    "        return self.dL_dW[neuron_index]\n",
    "\n",
    "\n",
    "class VanillaFCNN(object):\n",
    "\n",
    "    def __init__(self, training_X, training_Y, input_output):\n",
    "        self.layers = []\n",
    "        self.training_X = training_X\n",
    "        self.training_Y = training_Y\n",
    "        self.input_output = input_output\n",
    "\n",
    "    def addLayer(self, layer):\n",
    "        self.layers.append(layer)\n",
    "\n",
    "    def forward(self, X):\n",
    "        for layer in self.layers:\n",
    "            X = layer.forward(X)\n",
    "        return X\n",
    "\n",
    "    def train(self, max_epoch, learning_rate, batch_size):\n",
    "        t = trange(max_epoch)\n",
    "        loss = 0.0\n",
    "        for i in t:\n",
    "            # Create batch\n",
    "            sample = np.random.randint(0, self.training_X.shape[0], size=batch_size)\n",
    "            batch_train_X = self.training_X[sample].reshape((-1, 28 * 28))\n",
    "            batch_train_Y = self.training_Y[sample]\n",
    "\n",
    "            predictions_Y = self.forward(batch_train_X)\n",
    "\n",
    "            loss += cross_entropy_loss(predictions_Y, batch_train_Y)\n",
    "            accuracy = np.mean(np.argmax(predictions_Y, axis=1) == batch_train_Y)\n",
    "\n",
    "            # Backpropagation\n",
    "            # Start with the derivative of the Loss function wrt. the softmax function's input\n",
    "            dL_dZ = predictions_Y\n",
    "            dL_dZ[range(batch_size), batch_train_Y] -= 1\n",
    "\n",
    "            for layer in reversed(self.layers):\n",
    "                dL_dZ = layer.backward(dL_dZ)\n",
    "\n",
    "            # Update the weights\n",
    "            for layer in self.layers:\n",
    "                layer.update(learning_rate)\n",
    "\n",
    "            t.set_description(\n",
    "                'Epoch %d / %d, Loss = %f, Accuracy = %.2f' % (i + 1, max_epoch, loss / (i + 1), accuracy.mean()))\n",
    "\n",
    "    def predict(self, X):\n",
    "        return self.forward(X.reshape(1, -1))"
   ]
  },
  {
   "cell_type": "code",
   "execution_count": 55,
   "metadata": {},
   "outputs": [
    {
     "name": "stderr",
     "output_type": "stream",
     "text": [
      "Epoch 1000 / 1000, Loss = 0.616597, Accuracy = 0.92: 100%|███████████████████████████████████████████████████████████████████████████████████████████████████████████████████████████████████| 1000/1000 [00:05<00:00, 166.83it/s]\n"
     ]
    }
   ],
   "source": [
    "def create_neural_network():\n",
    "    X_train = fetch(\"http://yann.lecun.com/exdb/mnist/train-images-idx3-ubyte.gz\")[0x10:].reshape(-1, 28*28) / 255.0\n",
    "    Y_train = fetch(\"http://yann.lecun.com/exdb/mnist/train-labels-idx1-ubyte.gz\")[8:]\n",
    "    X_test = fetch(\"http://yann.lecun.com/exdb/mnist/t10k-images-idx3-ubyte.gz\")[0x10:].reshape(-1, 28, 28) / 255.0\n",
    "    Y_test = fetch(\"http://yann.lecun.com/exdb/mnist/t10k-labels-idx1-ubyte.gz\")[8:]\n",
    "\n",
    "    inputShapeSize = 784\n",
    "    outputShapeSize = 10\n",
    "    model = VanillaFCNN(X_train, Y_train, (inputShapeSize, outputShapeSize))\n",
    "    model.addLayer(NNLayer((128, inputShapeSize), 'relu'))\n",
    "    model.addLayer(NNLayer((outputShapeSize, 128), 'cross_entropy_softmax'))\n",
    "    return model, X_test, Y_test\n",
    "\n",
    "\n",
    "network_parameters = {'delta': 0.001, 'epochs': 1000, 'batch_size': 64}\n",
    "\n",
    "model, X_test, Y_test = create_neural_network()\n",
    "model.train(network_parameters['epochs'], network_parameters['delta'], network_parameters['batch_size'])"
   ]
  },
  {
   "cell_type": "code",
   "execution_count": 56,
   "metadata": {},
   "outputs": [
    {
     "data": {
      "text/plain": [
       "<matplotlib.image.AxesImage at 0x243e7bfe5c0>"
      ]
     },
     "execution_count": 56,
     "metadata": {},
     "output_type": "execute_result"
    },
    {
     "data": {
      "image/png": "[encoded data removed]",
      "text/plain": [
       "<Figure size 432x288 with 1 Axes>"
      ]
     },
     "metadata": {
      "needs_background": "light"
     },
     "output_type": "display_data"
    }
   ],
   "source": [
    "plt.imshow(X_test[6])"
   ]
  },
  {
   "cell_type": "code",
   "execution_count": 57,
   "metadata": {},
   "outputs": [
    {
     "data": {
      "text/plain": [
       "4"
      ]
     },
     "execution_count": 57,
     "metadata": {},
     "output_type": "execute_result"
    }
   ],
   "source": [
    "# Let's evaluate our model to check which number it thinks this image represents\n",
    "model.predict(X_test[6]).argmax()"
   ]
  }
 ],
 "metadata": {
  "kernelspec": {
   "display_name": "Python 3",
   "language": "python",
   "name": "python3"
  },
  "language_info": {
   "codemirror_mode": {
    "name": "ipython",
    "version": 3
   },
   "file_extension": ".py",
   "mimetype": "text/x-python",
   "name": "python",
   "nbconvert_exporter": "python",
   "pygments_lexer": "ipython3",
   "version": "3.7.2"
  }
 },
 "nbformat": 4,
 "nbformat_minor": 4
}
