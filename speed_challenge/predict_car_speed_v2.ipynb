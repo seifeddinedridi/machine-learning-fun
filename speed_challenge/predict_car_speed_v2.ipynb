{
 "cells": [
  {
   "cell_type": "code",
   "execution_count": 1,
   "metadata": {},
   "outputs": [
    {
     "name": "stdout",
     "output_type": "stream",
     "text": [
      "Populating the interactive namespace from numpy and matplotlib\n"
     ]
    }
   ],
   "source": [
    "%pylab inline\n",
    "import numpy as np\n",
    "import torch\n",
    "import torch.nn as nn\n",
    "import torch.nn.functional as F\n",
    "from tqdm import tqdm\n",
    "from tqdm import trange\n",
    "import matplotlib.pyplot as plt"
   ]
  },
  {
   "cell_type": "code",
   "execution_count": 2,
   "metadata": {},
   "outputs": [],
   "source": [
    "min_speed, max_speed, nb_speed_brackets = 0.0, 200.0, 20\n",
    "speed_bracket_size = (max_speed - min_speed) / nb_speed_brackets\n",
    "\n",
    "def mph_to_kph(mph):\n",
    "    return mph / 0.621371\n",
    "\n",
    "def get_speed_label(speed_mph):\n",
    "    speed_kph = mph_to_kph(speed_mph)\n",
    "    if speed_kph >= max_speed:\n",
    "        speed_kph = max_speed - 1\n",
    "    elif speed_kph < min_speed:\n",
    "        speed_kph = min_speed\n",
    "    return (int) ((speed_kph - min_speed) / speed_bracket_size)\n",
    "\n",
    "def get_speed_from_label(speed_label):\n",
    "    if speed_label < 0 or speed_label > nb_speed_brackets:\n",
    "        return 0\n",
    "    return min_speed + speed_bracket_size * speed_label\n",
    "\n",
    "def load_dataset(ds_filepath, test=False):\n",
    "    train_labels = None\n",
    "    with np.load(ds_filepath, mmap_mode=None) as dataset:\n",
    "        train_images, train_labels = dataset['train_images'], dataset['train_labels']\n",
    "    # Create speed brackets where each bracket corresponds with a label.\n",
    "    print('Min Speed={}, Max Speed={}'.format(mph_to_kph(train_labels.min()), mph_to_kph(train_labels.max())))\n",
    "    train_labels = np.vectorize(lambda x: mph_to_kph(x))(train_labels)\n",
    "    train_images = train_images.reshape(-1, 96, 128, 3)\n",
    "\n",
    "    train_images = train_images[:,:,:,0] * 0.2989 + train_images[:,:,:,1]  * 0.5870  + train_images[:,:,:,2] * 0.1140\n",
    "    print('Train dataset: image_shape={}, labels_shape={}'.format(train_images.shape, train_labels.shape))\n",
    "    return train_images, train_labels"
   ]
  },
  {
   "cell_type": "code",
   "execution_count": 3,
   "metadata": {},
   "outputs": [
    {
     "name": "stdout",
     "output_type": "stream",
     "text": [
      "Min Speed=0.0, Max Speed=23.963409943495915\n",
      "Train dataset: image_shape=(5400, 96, 128), labels_shape=(5400,)\n"
     ]
    }
   ],
   "source": [
    "# Load the dataset\n",
    "train_images, train_labels = load_dataset('data/train_dataset_15000_20400.npz')"
   ]
  },
  {
   "cell_type": "code",
   "execution_count": 4,
   "metadata": {},
   "outputs": [
    {
     "data": {
      "text/plain": [
       "(5400, 1, 8, 96, 128)"
      ]
     },
     "execution_count": 4,
     "metadata": {},
     "output_type": "execute_result"
    }
   ],
   "source": [
    "# Transform dataset\n",
    "DEPTH = 8\n",
    "\n",
    "# (BATCH, C, DEPTH, HEIGHT, WIDTH)\n",
    "# empty_arrays = [np.zeros_like(train_images.shape) for _ in range(DEPTH - 1)]\n",
    "# train_images = np.stack((train_images, empty_arrays), axis = 1)\n",
    "# train_images = np.expand_dims(train_images, axis=1)\n",
    "\n",
    "new_train_images = np.zeros((train_images.shape[0], 1, DEPTH, train_images.shape[1], train_images.shape[2]))\n",
    "\n",
    "for i in range(0, train_images.shape[0]):\n",
    "    if i < DEPTH:\n",
    "        new_train_images[i, 0, 0 : i + 1] = train_images[0 : i + 1].reshape(i + 1, 96, 128)\n",
    "#         train_labels[i] = np.mean(train_labels[0 : i + 1], axis = 0)\n",
    "    else:\n",
    "        new_train_images[i, 0] = train_images[i - DEPTH : i].reshape(DEPTH, 96, 128)\n",
    "#         train_labels[i] = np.mean(train_labels[i - DEPTH : i], axis = 0)\n",
    "\n",
    "new_train_images.shape"
   ]
  },
  {
   "cell_type": "code",
   "execution_count": 5,
   "metadata": {},
   "outputs": [
    {
     "data": {
      "text/plain": [
       "(0, 3)"
      ]
     },
     "execution_count": 5,
     "metadata": {},
     "output_type": "execute_result"
    }
   ],
   "source": [
    "train_images = new_train_images\n",
    "\n",
    "train_labels_mod = np.vectorize(lambda x: get_speed_label(x))(train_labels)\n",
    "train_labels_mod.min(), train_labels_mod.max()"
   ]
  },
  {
   "cell_type": "code",
   "execution_count": 10,
   "metadata": {},
   "outputs": [],
   "source": [
    "def one_hot_encode(x, n_classes):\n",
    "    \"\"\"\n",
    "    One hot encode a list of sample labels. Return a one-hot encoded vector for each label.\n",
    "    : x: List of sample Labels\n",
    "    : return: Numpy array of one-hot encoded labels\n",
    "     \"\"\"\n",
    "    #return torch.tensor(np.eye(n_classes)[x])\n",
    "    return torch.eye(n_classes)[(int)(x[0])]\n",
    "\n",
    "# N is batch size; D_in is input dimension;\n",
    "# H is hidden dimension; D_out is output dimension.\n",
    "BATCH_SIZE, D_out = 4, nb_speed_brackets\n",
    "\n",
    "class SpeedNet(nn.Module):\n",
    "    def __init__(self):\n",
    "        super(SpeedNet, self).__init__()\n",
    "        self.conv1 = nn.Conv3d(1, 32, 3)\n",
    "        self.conv2 = nn.Conv3d(32, 64, 3)\n",
    "        self.dropout1 = nn.Dropout(0.25)\n",
    "        self.dropout2 = nn.Dropout(0.5)\n",
    "        self.fc1 = nn.Linear(365056, 128)\n",
    "        self.fc2 = nn.Linear(128, D_out)\n",
    "\n",
    "    def forward(self, x):\n",
    "        x = self.conv1(x)\n",
    "        x = F.relu(x)\n",
    "        x = self.conv2(x)\n",
    "        x = F.relu(x)\n",
    "        x = F.max_pool3d(x, 2)\n",
    "        x = self.dropout1(x)\n",
    "        x = torch.flatten(x, 1)\n",
    "        x = self.fc1(x)\n",
    "        x = F.relu(x)\n",
    "        x = self.dropout2(x)\n",
    "        x_out = self.fc2(x)\n",
    "        return F.log_softmax(x_out, dim = 1)\n",
    "\n",
    "    def predict(self, x):\n",
    "        return self(x)"
   ]
  },
  {
   "cell_type": "code",
   "execution_count": 11,
   "metadata": {},
   "outputs": [
    {
     "name": "stdout",
     "output_type": "stream",
     "text": [
      "SpeedNet(\n",
      "  (conv1): Conv3d(1, 32, kernel_size=(3, 3, 3), stride=(1, 1, 1))\n",
      "  (conv2): Conv3d(32, 64, kernel_size=(3, 3, 3), stride=(1, 1, 1))\n",
      "  (dropout1): Dropout(p=0.25, inplace=False)\n",
      "  (dropout2): Dropout(p=0.5, inplace=False)\n",
      "  (fc1): Linear(in_features=365056, out_features=128, bias=True)\n",
      "  (fc2): Linear(in_features=128, out_features=20, bias=True)\n",
      ")\n"
     ]
    }
   ],
   "source": [
    "device = torch.device(\"cpu\")\n",
    "ftype = torch.FloatTensor\n",
    "ltype = torch.LongTensor\n",
    "torch.backends.cuda.matmul.allow_tf32 = False\n",
    "torch.autograd.set_detect_anomaly(True)\n",
    "model = SpeedNet()\n",
    "model.to(device)\n",
    "print(model)\n",
    "loss_function = nn.NLLLoss(reduction='mean')\n",
    "optimizer = torch.optim.Adam(model.parameters(), lr=1e-5)"
   ]
  },
  {
   "cell_type": "code",
   "execution_count": 12,
   "metadata": {},
   "outputs": [
    {
     "name": "stderr",
     "output_type": "stream",
     "text": [
      "Loss 2.4274, Accuracy 25.0000: 100%|██████████| 10/10 [00:05<00:00,  1.68it/s]\n"
     ]
    },
    {
     "data": {
      "text/plain": [
       "[<matplotlib.lines.Line2D at 0x13b13dcd0>]"
      ]
     },
     "execution_count": 12,
     "metadata": {},
     "output_type": "execute_result"
    },
    {
     "data": {
      "image/png": "[encoded data removed]",
      "text/plain": [
       "<Figure size 432x288 with 1 Axes>"
      ]
     },
     "metadata": {
      "needs_background": "light"
     },
     "output_type": "display_data"
    }
   ],
   "source": [
    "model.train()\n",
    "losses = []\n",
    "accuracies = []\n",
    "t = trange(10)\n",
    "for i in t:\n",
    "    sample = np.random.randint(0, train_images.shape[0], BATCH_SIZE)\n",
    "    X = torch.tensor(train_images[sample], device=device).type(ftype)\n",
    "    Y = torch.tensor(train_labels_mod[sample], device=device).type(ltype)\n",
    "    \n",
    "    y_pred = model(X)\n",
    "\n",
    "    # Compute and print loss\n",
    "    loss = loss_function(y_pred, Y)\n",
    "    accuracy = (y_pred.argmax(axis = 1) == Y).float().mean()\n",
    "    t.set_description(\"Loss %.4f, Accuracy %.4f\" % (loss.item(), 100.0 * accuracy))\n",
    "    losses.append(loss.item())\n",
    "    accuracies.append(accuracy)\n",
    "\n",
    "    # Zero gradients, perform a backward pass, and update the weights.\n",
    "    optimizer.zero_grad()\n",
    "    loss.backward()\n",
    "    optimizer.step()\n",
    "\n",
    "plt.ylim(0.0, 5.0)\n",
    "plt.xlabel('Epoch')\n",
    "plt.ylabel('Loss')\n",
    "plt.plot(losses, label='Loss')\n",
    "# plt.plot(accuracies, label='Accuracy')"
   ]
  },
  {
   "cell_type": "code",
   "execution_count": 129,
   "metadata": {},
   "outputs": [],
   "source": [
    "pretrained_model_path = 'data/pretrained_model_v2.tar'"
   ]
  },
  {
   "cell_type": "code",
   "execution_count": 130,
   "metadata": {},
   "outputs": [],
   "source": [
    "model.train()\n",
    "torch.save({\n",
    "            'model_state_dict': model.state_dict(),\n",
    "            'optimizer_state_dict': optimizer.state_dict(),\n",
    "            'losses': losses,\n",
    "            },\n",
    "    pretrained_model_path)"
   ]
  },
  {
   "cell_type": "code",
   "execution_count": 131,
   "metadata": {},
   "outputs": [
    {
     "data": {
      "text/plain": [
       "SpeedNet(\n",
       "  (conv1): Conv3d(1, 32, kernel_size=(3, 3, 3), stride=(1, 1, 1))\n",
       "  (conv2): Conv3d(32, 64, kernel_size=(3, 3, 3), stride=(1, 1, 1))\n",
       "  (dropout1): Dropout(p=0.25, inplace=False)\n",
       "  (dropout2): Dropout(p=0.5, inplace=False)\n",
       "  (fc1): Linear(in_features=365056, out_features=128, bias=True)\n",
       "  (fc2): Linear(in_features=128, out_features=20, bias=True)\n",
       ")"
      ]
     },
     "execution_count": 131,
     "metadata": {},
     "output_type": "execute_result"
    }
   ],
   "source": [
    "checkpoint = torch.load(pretrained_model_path, map_location=device)\n",
    "model.load_state_dict(checkpoint['model_state_dict'])\n",
    "optimizer.load_state_dict(checkpoint['optimizer_state_dict'])\n",
    "losses = checkpoint['losses']\n",
    "\n",
    "model.eval()"
   ]
  },
  {
   "cell_type": "code",
   "execution_count": 132,
   "metadata": {},
   "outputs": [
    {
     "name": "stdout",
     "output_type": "stream",
     "text": [
      "Actual speed: 15.247589604278282, Predicted speed: tensor([0.])\n",
      "Batch indices: [1930 1751 1581 4722]\n",
      "Mean Squared Error Loss: 18.499889373779297\n"
     ]
    },
    {
     "data": {
      "image/png": "[encoded data removed]",
      "text/plain": [
       "<Figure size 432x288 with 1 Axes>"
      ]
     },
     "metadata": {
      "needs_background": "light"
     },
     "output_type": "display_data"
    }
   ],
   "source": [
    "model.eval()\n",
    "test_image_index = 3256 #[1723 1517 3247 3256]\n",
    "test_images = train_images[test_image_index]\n",
    "actual_speed = train_labels[test_image_index]\n",
    "pylab.imshow(test_images[0,0], cmap='gray')\n",
    "\n",
    "test_tensor = torch.tensor(test_images, device=device).type(ftype).unsqueeze(1)\n",
    "predicted_speed =  model.predict(test_tensor)\n",
    "predicted_speed = get_speed_from_label(predicted_speed.argmax(axis=1))\n",
    "print('Actual speed: {}, Predicted speed: {}'.format(actual_speed, predicted_speed))\n",
    "\n",
    "with torch.no_grad():\n",
    "    sample = np.random.randint(0, train_images.shape[0], size=BATCH_SIZE)\n",
    "    print('Batch indices: {}'.format(sample))\n",
    "    X = torch.tensor(train_images[sample], device=device).type(ftype)\n",
    "    Y = torch.tensor(train_labels[sample], device=device).type(ftype).view(BATCH_SIZE, 1)\n",
    "\n",
    "    Y_pred = model(X).argmax(axis=1).reshape(BATCH_SIZE, 1)\n",
    "    Y_pred = np.vectorize(lambda x: get_speed_from_label(x))(Y_pred.detach().cpu().numpy())\n",
    "    Y_pred = torch.tensor(Y_pred, device=device).type(ftype)\n",
    "    mse_loss = nn.MSELoss(reduction='mean')\n",
    "    print('Mean Squared Error Loss: {}'.format(mse_loss(Y_pred, Y).item()))"
   ]
  }
 ],
 "metadata": {
  "kernelspec": {
   "display_name": "Python 3",
   "language": "python",
   "name": "python3"
  },
  "language_info": {
   "codemirror_mode": {
    "name": "ipython",
    "version": 3
   },
   "file_extension": ".py",
   "mimetype": "text/x-python",
   "name": "python",
   "nbconvert_exporter": "python",
   "pygments_lexer": "ipython3",
   "version": "3.9.0"
  }
 },
 "nbformat": 4,
 "nbformat_minor": 4
}
