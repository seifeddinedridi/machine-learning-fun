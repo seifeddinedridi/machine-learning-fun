{
 "cells": [
  {
   "cell_type": "code",
   "execution_count": 1,
   "metadata": {},
   "outputs": [
    {
     "name": "stdout",
     "output_type": "stream",
     "text": [
      "Populating the interactive namespace from numpy and matplotlib\n"
     ]
    }
   ],
   "source": [
    "%pylab inline\n",
    "import numpy as np\n",
    "import torch\n",
    "import torch.nn as nn\n",
    "import torch.nn.functional as F\n",
    "from tqdm import tqdm\n",
    "from tqdm import trange\n",
    "import matplotlib.pyplot as plt"
   ]
  },
  {
   "cell_type": "code",
   "execution_count": 2,
   "metadata": {},
   "outputs": [],
   "source": [
    "min_speed, max_speed, nb_speed_brackets = 0.0, 200.0, 20\n",
    "speed_bracket_size = (max_speed - min_speed) / nb_speed_brackets\n",
    "\n",
    "def mph_to_kph(mph):\n",
    "    return mph / 0.621371\n",
    "\n",
    "def get_speed_label(speed_mph):\n",
    "    speed_kph = mph_to_kph(speed_mph)\n",
    "    if speed_kph >= max_speed:\n",
    "        speed_kph = max_speed - 1\n",
    "    elif speed_kph < min_speed:\n",
    "        speed_kph = min_speed\n",
    "    return (int) ((speed_kph - min_speed) / speed_bracket_size)\n",
    "\n",
    "def get_speed_from_label(speed_label):\n",
    "    if speed_label < 0 or speed_label > nb_speed_brackets:\n",
    "        return 0\n",
    "    return min_speed + speed_bracket_size * speed_label\n",
    "\n",
    "def load_dataset(ds_filepath, test=False):\n",
    "    train_labels = None\n",
    "    with np.load(ds_filepath, mmap_mode=None) as dataset:\n",
    "        train_images, train_labels = dataset['train_images'], dataset['train_labels']\n",
    "    # Create speed brackets where each bracket corresponds with a label.\n",
    "    print('Min Speed={}, Max Speed={}'.format(mph_to_kph(train_labels.min()), mph_to_kph(train_labels.max())))\n",
    "    train_labels = np.vectorize(lambda x: mph_to_kph(x))(train_labels)\n",
    "    train_images = train_images.reshape(-1, 96, 128, 3)\n",
    "    print('Train dataset: image_shape={}, labels_shape={}'.format(train_images.shape, train_labels.shape))\n",
    "\n",
    "    train_images = train_images[:,:,:,0] * 0.2989 + train_images[:,:,:,1]  * 0.5870  + train_images[:,:,:,2] * 0.1140\n",
    "    print(train_images.shape)\n",
    "    return train_images, train_labels"
   ]
  },
  {
   "cell_type": "code",
   "execution_count": 4,
   "metadata": {},
   "outputs": [
    {
     "name": "stdout",
     "output_type": "stream",
     "text": [
      "Min Speed=0.0, Max Speed=23.963409943495915\n",
      "Train dataset: image_shape=(5400, 96, 128, 3), labels_shape=(5400,)\n",
      "(5400, 96, 128)\n"
     ]
    },
    {
     "data": {
      "text/plain": [
       "(0, 3)"
      ]
     },
     "execution_count": 4,
     "metadata": {},
     "output_type": "execute_result"
    }
   ],
   "source": [
    "train_images, train_labels = load_dataset('data\\\\train_dataset_15000_20400.npz')\n",
    "\n",
    "\n",
    "train_labels_mod = np.vectorize(lambda x: get_speed_label(x))(train_labels)\n",
    "train_labels_mod.min(), train_labels_mod.max()"
   ]
  },
  {
   "cell_type": "code",
   "execution_count": 5,
   "metadata": {},
   "outputs": [],
   "source": [
    "def one_hot_encode(x, n_classes):\n",
    "    \"\"\"\n",
    "    One hot encode a list of sample labels. Return a one-hot encoded vector for each label.\n",
    "    : x: List of sample Labels\n",
    "    : return: Numpy array of one-hot encoded labels\n",
    "     \"\"\"\n",
    "    #return torch.tensor(np.eye(n_classes)[x])\n",
    "    return torch.eye(n_classes)[(int)(x[0])]\n",
    "\n",
    "# N is batch size; D_in is input dimension;\n",
    "# H is hidden dimension; D_out is output dimension.\n",
    "BATCH_SIZE, D_in, H, D_out = 4, 36864, 100, 32\n",
    "\n",
    "class SpeedNet(nn.Module):\n",
    "    def __init__(self):\n",
    "        super(SpeedNet, self).__init__()\n",
    "        self.conv1 = nn.Conv2d(1, 32, 3, 1)\n",
    "        self.conv2 = nn.Conv2d(32, 64, 3, 1)\n",
    "        self.dropout1 = nn.Dropout(0.25)\n",
    "        self.dropout2 = nn.Dropout(0.5)\n",
    "        self.fc1 = nn.Linear(182528, 128) # max pooling is applied before the fully-connected layers\n",
    "        self.fc2 = nn.Linear(128, nb_speed_brackets)\n",
    "\n",
    "    def forward(self, x):\n",
    "        x = self.conv1(x)\n",
    "        x = F.relu(x)\n",
    "        x = self.conv2(x)\n",
    "        x = F.relu(x)\n",
    "        x = F.max_pool2d(x, 2)\n",
    "        x = self.dropout1(x)\n",
    "        x = torch.flatten(x, 1)\n",
    "        x = self.fc1(x)\n",
    "        x = F.relu(x)\n",
    "        x = self.dropout2(x)\n",
    "        return self.fc2(x)\n",
    "\n",
    "class CarNet(nn.Module):\n",
    "    def __init__(self):\n",
    "        super(CarNet, self).__init__()\n",
    "        self.speed_net = SpeedNet()\n",
    "\n",
    "#         self.lstm_model = nn.LSTM(input_size=D_out, hidden_size=nb_speed_brackets, num_layers=1, batch_first=True)\n",
    "#         self.fc = nn.Linear(D_out, 1)\n",
    "        self.log_softmax = nn.LogSoftmax(dim=1)\n",
    "\n",
    "    def forward(self, x):\n",
    "        batch_size, C, H, W = x.size()\n",
    "\n",
    "        x_out = self.speed_net(x)\n",
    "#         lstm_input = x_out.view(batch_size, 1, D_out)\n",
    "        \n",
    "#         lstm_output, hidden = self.lstm_model(lstm_input)\n",
    "#         return self.log_softmax(hidden[0][0])\n",
    "        return self.log_softmax(x_out)\n",
    "        #return self.fc(hidden[0][0])\n",
    "\n",
    "    def predict(self, x):\n",
    "        return self(x)"
   ]
  },
  {
   "cell_type": "code",
   "execution_count": 6,
   "metadata": {},
   "outputs": [
    {
     "name": "stdout",
     "output_type": "stream",
     "text": [
      "CarNet(\n",
      "  (speed_net): SpeedNet(\n",
      "    (conv1): Conv2d(1, 32, kernel_size=(3, 3), stride=(1, 1))\n",
      "    (conv2): Conv2d(32, 64, kernel_size=(3, 3), stride=(1, 1))\n",
      "    (dropout1): Dropout(p=0.25, inplace=False)\n",
      "    (dropout2): Dropout(p=0.5, inplace=False)\n",
      "    (fc1): Linear(in_features=182528, out_features=128, bias=True)\n",
      "    (fc2): Linear(in_features=128, out_features=20, bias=True)\n",
      "  )\n",
      "  (log_softmax): LogSoftmax(dim=1)\n",
      ")\n"
     ]
    }
   ],
   "source": [
    "device = torch.device(\"cuda:0\")\n",
    "ftype = torch.cuda.FloatTensor\n",
    "ltype = torch.cuda.LongTensor\n",
    "torch.backends.cuda.matmul.allow_tf32 = False\n",
    "torch.autograd.set_detect_anomaly(True)\n",
    "model = CarNet()\n",
    "model.to(device)\n",
    "print(model)\n",
    "loss_function = nn.NLLLoss(reduction='mean') #nn.MSELoss(reduction='mean')\n",
    "optimizer = torch.optim.Adam(model.parameters(), lr=1e-4) #torch.optim.SGD(model.parameters(), lr=1e-4)"
   ]
  },
  {
   "cell_type": "code",
   "execution_count": 6,
   "metadata": {},
   "outputs": [
    {
     "name": "stderr",
     "output_type": "stream",
     "text": [
      "Loss 3.0081, Accuracy 0.0000: 100%|██████████| 1/1 [00:01<00:00,  1.39s/it]\n"
     ]
    },
    {
     "data": {
      "text/plain": [
       "[<matplotlib.lines.Line2D at 0x1657974f518>]"
      ]
     },
     "execution_count": 6,
     "metadata": {},
     "output_type": "execute_result"
    },
    {
     "data": {
      "image/png": "[encoded data removed]",
      "text/plain": [
       "<Figure size 432x288 with 1 Axes>"
      ]
     },
     "metadata": {
      "needs_background": "light"
     },
     "output_type": "display_data"
    }
   ],
   "source": [
    "model.train()\n",
    "losses = []\n",
    "t = trange(1)\n",
    "for i in t:\n",
    "    sample = np.random.randint(0, train_images.shape[0], size=(BATCH_SIZE))\n",
    "    X = torch.tensor(train_images[sample], device=device).type(ftype)\n",
    "    Y = torch.tensor(train_labels_mod[sample], device=device).type(ltype)\n",
    "    \n",
    "    X = X[:,None,:,:]\n",
    "    \n",
    "    y_pred = model(X)\n",
    "\n",
    "    # Compute and print loss\n",
    "    loss = loss_function(y_pred, Y)\n",
    "    accuracy = (y_pred.argmax(axis = 1) == Y).float().mean()\n",
    "    t.set_description(\"Loss %.4f, Accuracy %.4f\" % (loss.item(), 100.0 * accuracy))\n",
    "    losses.append(loss.item())\n",
    "\n",
    "    # Zero gradients, perform a backward pass, and update the weights.\n",
    "    optimizer.zero_grad()\n",
    "    loss.backward()\n",
    "    optimizer.step()\n",
    "\n",
    "#     torch.cuda.empty_cache()\n",
    "\n",
    "plt.ylim(0.0, 5.0)\n",
    "plt.plot(losses)"
   ]
  },
  {
   "cell_type": "code",
   "execution_count": 7,
   "metadata": {},
   "outputs": [],
   "source": [
    "pretrained_model_path = 'data\\\\pretrained_model.tar'"
   ]
  },
  {
   "cell_type": "code",
   "execution_count": 78,
   "metadata": {},
   "outputs": [],
   "source": [
    "model.train()\n",
    "torch.save({\n",
    "            'model_state_dict': model.state_dict(),\n",
    "            'optimizer_state_dict': optimizer.state_dict(),\n",
    "            'losses': losses,\n",
    "            },\n",
    "    pretrained_model_path)"
   ]
  },
  {
   "cell_type": "code",
   "execution_count": 8,
   "metadata": {},
   "outputs": [
    {
     "data": {
      "text/plain": [
       "CarNet(\n",
       "  (speed_net): SpeedNet(\n",
       "    (conv1): Conv2d(1, 32, kernel_size=(3, 3), stride=(1, 1))\n",
       "    (conv2): Conv2d(32, 64, kernel_size=(3, 3), stride=(1, 1))\n",
       "    (dropout1): Dropout(p=0.25, inplace=False)\n",
       "    (dropout2): Dropout(p=0.5, inplace=False)\n",
       "    (fc1): Linear(in_features=182528, out_features=128, bias=True)\n",
       "    (fc2): Linear(in_features=128, out_features=20, bias=True)\n",
       "  )\n",
       "  (log_softmax): LogSoftmax(dim=1)\n",
       ")"
      ]
     },
     "execution_count": 8,
     "metadata": {},
     "output_type": "execute_result"
    }
   ],
   "source": [
    "checkpoint = torch.load(pretrained_model_path)\n",
    "model.load_state_dict(checkpoint['model_state_dict'])\n",
    "optimizer.load_state_dict(checkpoint['optimizer_state_dict'])\n",
    "losses = checkpoint['losses']\n",
    "\n",
    "model.eval()"
   ]
  },
  {
   "cell_type": "code",
   "execution_count": 27,
   "metadata": {
    "scrolled": true
   },
   "outputs": [
    {
     "name": "stdout",
     "output_type": "stream",
     "text": [
      "Actual speed: 22.339228898677277, Predicted speed: tensor([30.], device='cuda:0')\n",
      "Mean Squared Error Loss: 605.4793324599693\n"
     ]
    },
    {
     "data": {
      "image/png": "[encoded data removed]",
      "text/plain": [
       "<Figure size 432x288 with 1 Axes>"
      ]
     },
     "metadata": {
      "needs_background": "light"
     },
     "output_type": "display_data"
    }
   ],
   "source": [
    "model.eval()\n",
    "# device = torch.device('cpu')\n",
    "# ftype = torch.FloatTensor\n",
    "# ltype = torch.LongTensor\n",
    "model.to(device)\n",
    "test_image_index = 0\n",
    "test_image = train_images[test_image_index]\n",
    "actual_speed = train_labels[test_image_index]\n",
    "pylab.imshow(test_image, cmap='gray')\n",
    "test_tensor = torch.tensor(test_image[np.newaxis,np.newaxis,:,:], device=device).type(ftype)\n",
    "predicted_speed =  model.predict(test_tensor)\n",
    "print('Actual speed: {}, Predicted speed: {}'.format(actual_speed, get_speed_from_label(predicted_speed.argmax(axis=1))))\n",
    "\n",
    "sample = np.random.randint(0, train_images.shape[0], size=(BATCH_SIZE))\n",
    "X = torch.tensor(train_images[sample], device=device).type(ftype)\n",
    "Y = torch.tensor(train_labels[sample], device=device).type(ftype).view(BATCH_SIZE, 1)\n",
    "X = X[:,None,:,:]\n",
    "Y_pred = model(X).argmax(axis=1).reshape(BATCH_SIZE, 1)\n",
    "Y_pred = torch.tensor(np.vectorize(lambda x: get_speed_from_label(x))(Y_pred.detach().cpu().numpy()), device=device)\n",
    "mse_loss = nn.MSELoss(reduction='mean')\n",
    "print('Mean Squared Error Loss: {}'.format(mse_loss(Y_pred, Y).item()))"
   ]
  },
  {
   "cell_type": "code",
   "execution_count": 9,
   "metadata": {},
   "outputs": [],
   "source": [
    "class SpeedNet2(nn.Module):\n",
    "    def __init__(self):\n",
    "        super(SpeedNet2, self).__init__()\n",
    "        self.features = list(model.speed_net.children())[:-1]\n",
    "        self.conv1 = self.features[0]\n",
    "        self.conv2 = self.features[1]\n",
    "        self.dropout1 = self.features[2]\n",
    "        self.dropout2 = self.features[3]\n",
    "        self.fc1 = self.features[4]\n",
    "\n",
    "    def forward(self, x):\n",
    "        batch_size, C, H, W = x.size()\n",
    "        x = self.conv1(x)\n",
    "        x = F.relu(x)\n",
    "        x = self.conv2(x)\n",
    "        x = F.relu(x)\n",
    "        x = F.max_pool2d(x, 2)\n",
    "        x = self.dropout1(x)\n",
    "        x = torch.flatten(x, 1)\n",
    "        x = self.fc1(x)\n",
    "        x = F.relu(x)\n",
    "        return x\n",
    "\n",
    "    def predict(self, x):\n",
    "        return self(x)\n",
    "\n",
    "class CarNet2(nn.Module):\n",
    "    def __init__(self):\n",
    "        super(CarNet2, self).__init__()\n",
    "        self.features = SpeedNet2()\n",
    "        self.embed = nn.Embedding(nb_speed_brackets, 8)\n",
    "        self.lstm_model = nn.LSTM(input_size=8, hidden_size=64, num_layers=1, batch_first=True)\n",
    "        self.fc = nn.Linear(64, nb_speed_brackets)\n",
    "        self.log_softmax = nn.LogSoftmax(dim=1)\n",
    "\n",
    "    def forward(self, image_features, speeds_refs):\n",
    "        batch_size, C, H, W = image_features.size()\n",
    "bbbbbbbbbbbbbbbbbbbbbbbbbbbbbbbbbbbbbbbbbbbbbbbbbbbbbbbbbbbbbbbbbbbbbbbbbbbbb\n",
    "        x_out = self.features(image_features)\n",
    "        embeddings = self.embed(speeds_refs)\n",
    "        lstm_input = torch.cat((x_out.unsqueeze(1), embeddings), 1)\n",
    "        \n",
    "        _, (hn, cn) = self.lstm_model(lstm_input)\n",
    "        out = self.fc(hn)\n",
    "        return self.log_softmax(out)\n",
    "\n",
    "    def predict(self, x):\n",
    "        return self(x)"
   ]
  },
  {
   "cell_type": "code",
   "execution_count": null,
   "metadata": {},
   "outputs": [],
   "source": []
  },
  {
   "cell_type": "code",
   "execution_count": null,
   "metadata": {},
   "outputs": [],
   "source": []
  },
  {
   "cell_type": "code",
   "execution_count": null,
   "metadata": {},
   "outputs": [],
   "source": []
  },
  {
   "cell_type": "code",
   "execution_count": null,
   "metadata": {},
   "outputs": [],
   "source": []
  },
  {
   "cell_type": "code",
   "execution_count": null,
   "metadata": {},
   "outputs": [],
   "source": []
  },
  {
   "cell_type": "code",
   "execution_count": null,
   "metadata": {},
   "outputs": [],
   "source": []
  },
  {
   "cell_type": "code",
   "execution_count": null,
   "metadata": {},
   "outputs": [],
   "source": []
  },
  {
   "cell_type": "code",
   "execution_count": 10,
   "metadata": {},
   "outputs": [
    {
     "data": {
      "text/plain": [
       "CarNet2(\n",
       "  (features): SpeedNet2(\n",
       "    (conv1): Conv2d(1, 32, kernel_size=(3, 3), stride=(1, 1))\n",
       "    (conv2): Conv2d(32, 64, kernel_size=(3, 3), stride=(1, 1))\n",
       "    (dropout1): Dropout(p=0.25, inplace=False)\n",
       "    (dropout2): Dropout(p=0.5, inplace=False)\n",
       "    (fc1): Linear(in_features=182528, out_features=128, bias=True)\n",
       "  )\n",
       "  (lstm_model): LSTM(20, 512)\n",
       "  (fc): Linear(in_features=512, out_features=20, bias=True)\n",
       "  (log_softmax): LogSoftmax(dim=1)\n",
       ")"
      ]
     },
     "execution_count": 10,
     "metadata": {},
     "output_type": "execute_result"
    }
   ],
   "source": [
    "BATCH_SIZE = 4\n",
    "car_net_v2 = CarNet2()\n",
    "car_net_v2.to(device)"
   ]
  },
  {
   "cell_type": "code",
   "execution_count": 17,
   "metadata": {},
   "outputs": [
    {
     "name": "stderr",
     "output_type": "stream",
     "text": [
      "Mean Squared Error Loss: 0.0137: 100%|██████████| 100/100 [00:06<00:00, 15.64it/s]\n"
     ]
    }
   ],
   "source": [
    "model.train()\n",
    "car_net_v2.train()\n",
    "loss_function =  nn.NLLLoss(reduction='mean') #nn.MSELoss(reduction='mean')\n",
    "optimizer = torch.optim.Adam(car_net_v2.parameters(), lr=1e-4)\n",
    "\n",
    "BATCH_SIZE = 4\n",
    "max_interval = 100\n",
    "t = trange(max_interval)\n",
    "for i in t:\n",
    "    sample = np.arange(i, i + BATCH_SIZE)\n",
    "    X = torch.tensor(train_images[sample], device=device).type(ftype)\n",
    "    Y_one_hot_enc = np.apply_along_axis(lambda x: one_hot_encode(x, nb_speed_brackets), 1, train_labels_mod[sample].reshape(BATCH_SIZE, 1))\n",
    "    Y_one_hot_enc = torch.tensor(Y_one_hot_enc, device=device).type(ftype)\n",
    "    Y = torch.tensor(train_labels_mod[sample], device=device).reshape(BATCH_SIZE, 1).type(ltype)\n",
    "\n",
    "    X = X[:,None,:,:]\n",
    "\n",
    "    model_output = car_net_v2((X, Y_one_hot_enc))\n",
    "    Y_pred = model_output.type(ftype)\n",
    "    loss = loss_function(Y_pred, Y.reshape(BATCH_SIZE))\n",
    "    t.set_description(\"Mean Squared Error Loss: %.4f\" % (loss.item()))\n",
    "\n",
    "    optimizer.zero_grad()\n",
    "    loss.backward()\n",
    "    optimizer.step()"
   ]
  },
  {
   "cell_type": "code",
   "execution_count": 37,
   "metadata": {},
   "outputs": [
    {
     "name": "stdout",
     "output_type": "stream",
     "text": [
      "torch.Size([4, 1, 96, 128])\n",
      "Actual speed: [22.3392289  22.33148956 22.39371165 22.39599531], Predicted speed: 30.0\n"
     ]
    },
    {
     "data": {
      "image/png": "[encoded data removed]",
      "text/plain": [
       "<Figure size 432x288 with 1 Axes>"
      ]
     },
     "metadata": {
      "needs_background": "light"
     },
     "output_type": "display_data"
    }
   ],
   "source": [
    "car_net_v2.eval()\n",
    "test_image_index = sample = np.arange(0, 0 + BATCH_SIZE)\n",
    "test_image = train_images[test_image_index]\n",
    "actual_speed = train_labels[test_image_index]\n",
    "pylab.imshow(test_image[0], cmap='gray')\n",
    "test_tensor = torch.tensor(test_image[np.newaxis, :, :], device=device).type(ftype).reshape(BATCH_SIZE, 1, 96, -1)\n",
    "Y_one_hot_enc = np.apply_along_axis(lambda x: one_hot_encode(x, nb_speed_brackets), 1, train_labels_mod[sample].reshape(BATCH_SIZE, 1))\n",
    "Y_one_hot_enc = torch.tensor(Y_one_hot_enc, device=device).type(ftype)\n",
    "\n",
    "print(test_tensor.shape)\n",
    "predicted_speed =  car_net_v2.predict((test_tensor, Y_one_hot_enc))\n",
    "print('Actual speed: {}, Predicted speed: {}'.format(actual_speed, get_speed_from_label(predicted_speed.argmax(dim=1)[0])))"
   ]
  }
 ],
 "metadata": {
  "kernelspec": {
   "display_name": "Python 3",
   "language": "python",
   "name": "python3"
  },
  "language_info": {
   "codemirror_mode": {
    "name": "ipython",
    "version": 3
   },
   "file_extension": ".py",
   "mimetype": "text/x-python",
   "name": "python",
   "nbconvert_exporter": "python",
   "pygments_lexer": "ipython3",
   "version": "3.7.2"
  }
 },
 "nbformat": 4,
 "nbformat_minor": 4
}
